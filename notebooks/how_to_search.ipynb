{
 "cells": [
  {
   "cell_type": "code",
   "execution_count": 1,
   "id": "6b3d433e-3d8f-4392-96b1-9961f07a90fd",
   "metadata": {},
   "outputs": [],
   "source": [
    "import pandas as pd\n",
    "from IPython.display import clear_output\n",
    "import numpy as np"
   ]
  },
  {
   "cell_type": "markdown",
   "id": "79393f47-1c07-459f-874c-f69828ee1fbc",
   "metadata": {},
   "source": [
    "# Applying DOI and MagIC Link search functions\n",
    "\n",
    "In the case that you have many literature references that include a title, author, year, journal, volume, and pages but do not have the DOI\n",
    "or MagIC Earthref Data DOI contribution link these functions can assist in finding these missing identifiers. \n",
    "\n",
    "Many are familiar with the reference DOI assigned to most published papers. The format we will make use of here will start with the 10 ('10.1029/A1B2C3'). \n",
    "We are interested in the MagIC link that relates to the rock magnetic data so that one can easily find the data associated with a paper. The http links produced by these functions are the Earthref Data DOI links related to contributions (http://dx.doi.org/10.7288/V4/MAGIC/19904).\n",
    "\n",
    "These functions used here in this notebook are found in the module \"dl_search\". "
   ]
  },
  {
   "cell_type": "code",
   "execution_count": 2,
   "id": "747573ea-8db5-4174-b81c-8c1f23bccb54",
   "metadata": {},
   "outputs": [],
   "source": [
    "import dl_search as srch   # searching functions"
   ]
  },
  {
   "cell_type": "markdown",
   "id": "76e68a5e-b014-46fa-9543-820eb4942801",
   "metadata": {},
   "source": [
    "## Functions and their uses\n",
    "See the documentation contained in the dl_search.py file or using help()"
   ]
  },
  {
   "cell_type": "code",
   "execution_count": 3,
   "id": "18416ea8-e00e-4635-bff0-e09f5bfb025a",
   "metadata": {},
   "outputs": [
    {
     "name": "stdout",
     "output_type": "stream",
     "text": [
      "Help on function magic_link_from_doi in module dl_search:\n",
      "\n",
      "magic_link_from_doi(doi)\n",
      "    This uses the earthref MagIC api to search for a magic contribution using a doi. \n",
      "    Adapted from pmagpy's \"ipmag.download_magic_from_doi()\"\n",
      "    \n",
      "    Input: \n",
      "        doi: str beginning with '10.'\n",
      "        \n",
      "    Output: \n",
      "        earthref_doi_link: http link if found\n",
      "                           NaN if not found in MagIC database, try using magic_link_from_title to search the title in MagIC\n",
      "\n"
     ]
    }
   ],
   "source": [
    "help( srch.magic_link_from_doi )"
   ]
  },
  {
   "cell_type": "markdown",
   "id": "0633f272-d62a-4d53-9ef6-9d0209a3ccf7",
   "metadata": {},
   "source": [
    "### magic_link_from_doi "
   ]
  },
  {
   "cell_type": "code",
   "execution_count": 4,
   "id": "3af25ead-51de-41d8-8081-9f0bf93c69f5",
   "metadata": {},
   "outputs": [
    {
     "data": {
      "text/plain": [
       "'http://dx.doi.org/10.7288/V4/MAGIC/17452'"
      ]
     },
     "execution_count": 4,
     "metadata": {},
     "output_type": "execute_result"
    }
   ],
   "source": [
    "doi = '10.1029/2021GC009990'\n",
    "srch.magic_link_from_doi(doi)"
   ]
  },
  {
   "cell_type": "code",
   "execution_count": 5,
   "id": "bbdbefca-cb04-4a8a-be33-d769304a1a3c",
   "metadata": {},
   "outputs": [
    {
     "data": {
      "text/plain": [
       "'http://dx.doi.org/10.7288/V4/MAGIC/16709'"
      ]
     },
     "execution_count": 5,
     "metadata": {},
     "output_type": "execute_result"
    }
   ],
   "source": [
    "doi = '10.1029/2019GC008728'\n",
    "srch.magic_link_from_doi(doi)"
   ]
  },
  {
   "cell_type": "markdown",
   "id": "c7417c8c-c80d-4c33-a7da-9e4020cb58d2",
   "metadata": {},
   "source": [
    "### magic_link_from_title"
   ]
  },
  {
   "cell_type": "code",
   "execution_count": 6,
   "id": "51a5a3ae-31f9-4d89-bf7e-643cfc58672f",
   "metadata": {},
   "outputs": [
    {
     "data": {
      "text/plain": [
       "'http://dx.doi.org/10.7288/V4/MAGIC/19405'"
      ]
     },
     "execution_count": 6,
     "metadata": {},
     "output_type": "execute_result"
    }
   ],
   "source": [
    "title = \"Geomagnetic field intensity between 70 000 and 130 000 years B.P. from a volcanic sequence on La Réunion, Indian Ocean\"\n",
    "#id = '19405'\n",
    "\n",
    "srch.magic_link_from_title(title)"
   ]
  },
  {
   "cell_type": "markdown",
   "id": "dc8dde9a-8f54-4c97-bcbc-2ca9d47fea91",
   "metadata": {},
   "source": [
    "### get_doi\n",
    "Examples"
   ]
  },
  {
   "cell_type": "code",
   "execution_count": 7,
   "id": "6347fcc6-cad8-470b-af9e-2b7a02a95e21",
   "metadata": {},
   "outputs": [
    {
     "data": {
      "text/plain": [
       "'10.1016/0012-821x(96)00024-6'"
      ]
     },
     "execution_count": 7,
     "metadata": {},
     "output_type": "execute_result"
    }
   ],
   "source": [
    "title = 'Geomagnetic field intensity between 70 000 and 130 000 years B.P. from a volcanic sequence on La Reunion, Indian Ocean.' \n",
    "srch.get_doi(title)"
   ]
  },
  {
   "cell_type": "markdown",
   "id": "f930c5c3-8bd2-4ade-9b34-c743ccbaf7d3",
   "metadata": {},
   "source": [
    "### These can be used in tandem when magic_link_from_title cannot find the associated link"
   ]
  },
  {
   "cell_type": "code",
   "execution_count": 8,
   "id": "f0453005-e30e-4bd0-86e6-a35a14df19d0",
   "metadata": {},
   "outputs": [
    {
     "data": {
      "text/plain": [
       "nan"
      ]
     },
     "execution_count": 8,
     "metadata": {},
     "output_type": "execute_result"
    }
   ],
   "source": [
    "title = 'Evidence of anomalously weak geomagnetic field during Matuyama reversed epoch'\n",
    "srch.magic_link_from_title(title)   # no content found"
   ]
  },
  {
   "cell_type": "markdown",
   "id": "5b3c0680-e4a9-44a9-8408-75257bb7dbf7",
   "metadata": {},
   "source": [
    "The above does not work. So then we will try:"
   ]
  },
  {
   "cell_type": "code",
   "execution_count": 9,
   "id": "1c51a7ef-29ca-4e7c-b4ff-44c6a96a8429",
   "metadata": {},
   "outputs": [
    {
     "data": {
      "text/plain": [
       "'http://dx.doi.org/10.7288/V4/MAGIC/18775'"
      ]
     },
     "execution_count": 9,
     "metadata": {},
     "output_type": "execute_result"
    }
   ],
   "source": [
    "title = 'Evidence of anomalously weak geomagnetic field during Matuyama reversed epoch'\n",
    "srch.magic_link_from_title2(title)"
   ]
  },
  {
   "cell_type": "markdown",
   "id": "4c17df47-469e-4e5e-9436-acaed8cd3edc",
   "metadata": {},
   "source": [
    "Which is succesful."
   ]
  },
  {
   "cell_type": "markdown",
   "id": "bcb926fe-a9d9-4971-983f-c4bca889cdd3",
   "metadata": {},
   "source": [
    "## Working Example: Adding DOIs and Earthref Data DOI links to a spreadsheet of references of \\*paper titles\n",
    "\n",
    "\\*Paper in the case of this file, may inclue pre-finalized paper titles."
   ]
  },
  {
   "cell_type": "code",
   "execution_count": 10,
   "id": "72b17272-a9d8-4eb8-8778-83f3f5dd3523",
   "metadata": {},
   "outputs": [
    {
     "name": "stdout",
     "output_type": "stream",
     "text": [
      "413\n"
     ]
    },
    {
     "data": {
      "text/html": [
       "<div>\n",
       "<style scoped>\n",
       "    .dataframe tbody tr th:only-of-type {\n",
       "        vertical-align: middle;\n",
       "    }\n",
       "\n",
       "    .dataframe tbody tr th {\n",
       "        vertical-align: top;\n",
       "    }\n",
       "\n",
       "    .dataframe thead th {\n",
       "        text-align: right;\n",
       "    }\n",
       "</style>\n",
       "<table border=\"1\" class=\"dataframe\">\n",
       "  <thead>\n",
       "    <tr style=\"text-align: right;\">\n",
       "      <th></th>\n",
       "      <th>index</th>\n",
       "      <th>REFNO</th>\n",
       "      <th>AUTHORS</th>\n",
       "      <th>YEAR</th>\n",
       "      <th>TITLE</th>\n",
       "      <th>JOURNAL</th>\n",
       "      <th>VOL</th>\n",
       "      <th>PAGES</th>\n",
       "      <th>DOI</th>\n",
       "      <th>MagIC</th>\n",
       "    </tr>\n",
       "  </thead>\n",
       "  <tbody>\n",
       "    <tr>\n",
       "      <th>0</th>\n",
       "      <td>0</td>\n",
       "      <td>1</td>\n",
       "      <td>Aoki, Y., Kase, H., Ishibashi, K., Kinoshita, H.</td>\n",
       "      <td>1971</td>\n",
       "      <td>Evidence of anomalously weak geomagnetic field...</td>\n",
       "      <td>J. Geomag. Geoelect.</td>\n",
       "      <td>23</td>\n",
       "      <td>129-132</td>\n",
       "      <td>NaN</td>\n",
       "      <td>NaN</td>\n",
       "    </tr>\n",
       "    <tr>\n",
       "      <th>1</th>\n",
       "      <td>1</td>\n",
       "      <td>2</td>\n",
       "      <td>Bagina, O.L., Minasyan, D.O., Petrova, G.N.</td>\n",
       "      <td>1976</td>\n",
       "      <td>Determination of the intensity of the ancient ...</td>\n",
       "      <td>Izv. Akad. Nauk. (in Russian)</td>\n",
       "      <td>2</td>\n",
       "      <td>81-86</td>\n",
       "      <td>NaN</td>\n",
       "      <td>NaN</td>\n",
       "    </tr>\n",
       "    <tr>\n",
       "      <th>...</th>\n",
       "      <td>...</td>\n",
       "      <td>...</td>\n",
       "      <td>...</td>\n",
       "      <td>...</td>\n",
       "      <td>...</td>\n",
       "      <td>...</td>\n",
       "      <td>...</td>\n",
       "      <td>...</td>\n",
       "      <td>...</td>\n",
       "      <td>...</td>\n",
       "    </tr>\n",
       "    <tr>\n",
       "      <th>375</th>\n",
       "      <td>395</td>\n",
       "      <td>766</td>\n",
       "      <td>Shcherbakova V.V., Zhidkov G.A., Pavlov V.E..,...</td>\n",
       "      <td>2004</td>\n",
       "      <td>The paleointensity determinations on Early Pro...</td>\n",
       "      <td>Kazan'</td>\n",
       "      <td>NaN</td>\n",
       "      <td>61-66</td>\n",
       "      <td>NaN</td>\n",
       "      <td>NaN</td>\n",
       "    </tr>\n",
       "    <tr>\n",
       "      <th>376</th>\n",
       "      <td>397</td>\n",
       "      <td>768</td>\n",
       "      <td>Goguitchaichvili A., Valdivia L.A., Morales J....</td>\n",
       "      <td>2000</td>\n",
       "      <td>New contributions to the Early Pliocene geomag...</td>\n",
       "      <td>Geofisica Int.</td>\n",
       "      <td>39</td>\n",
       "      <td>277-284</td>\n",
       "      <td>NaN</td>\n",
       "      <td>NaN</td>\n",
       "    </tr>\n",
       "  </tbody>\n",
       "</table>\n",
       "<p>377 rows × 10 columns</p>\n",
       "</div>"
      ],
      "text/plain": [
       "     index  REFNO                                            AUTHORS  YEAR  \\\n",
       "0        0      1   Aoki, Y., Kase, H., Ishibashi, K., Kinoshita, H.  1971   \n",
       "1        1      2        Bagina, O.L., Minasyan, D.O., Petrova, G.N.  1976   \n",
       "..     ...    ...                                                ...   ...   \n",
       "375    395    766  Shcherbakova V.V., Zhidkov G.A., Pavlov V.E..,...  2004   \n",
       "376    397    768  Goguitchaichvili A., Valdivia L.A., Morales J....  2000   \n",
       "\n",
       "                                                 TITLE  \\\n",
       "0    Evidence of anomalously weak geomagnetic field...   \n",
       "1    Determination of the intensity of the ancient ...   \n",
       "..                                                 ...   \n",
       "375  The paleointensity determinations on Early Pro...   \n",
       "376  New contributions to the Early Pliocene geomag...   \n",
       "\n",
       "                           JOURNAL  VOL    PAGES  DOI MagIC  \n",
       "0             J. Geomag. Geoelect.   23  129-132  NaN   NaN  \n",
       "1    Izv. Akad. Nauk. (in Russian)    2    81-86  NaN   NaN  \n",
       "..                             ...  ...      ...  ...   ...  \n",
       "375                         Kazan'  NaN    61-66  NaN   NaN  \n",
       "376                 Geofisica Int.   39  277-284  NaN   NaN  \n",
       "\n",
       "[377 rows x 10 columns]"
      ]
     },
     "execution_count": 10,
     "metadata": {},
     "output_type": "execute_result"
    }
   ],
   "source": [
    "# import references file with missing DOIs and MagIC links\n",
    "pint_refs = pd.read_excel('../testdata/PINT_References_magiclinks.xlsx')\n",
    "pint_refs_dois = pint_refs.loc[pint_refs['DOI'].isna() == False].reset_index()    # collect data rows that have DOIs \n",
    "pint_refs_no_dois = pint_refs.loc[pint_refs['DOI'].isna() == True].reset_index()\n",
    "# print dataframe with this selection\n",
    "pd.set_option('display.max_rows', 5)\n",
    "print(len(pint_refs))\n",
    "pint_refs_dois    # 36 have DOIs out of the 413 rows of references, we'll keep this for later\n",
    "pint_refs_no_dois  # 377 have none"
   ]
  },
  {
   "cell_type": "code",
   "execution_count": 11,
   "id": "eb6e2aa8-1bfe-4882-9a0d-8e0ed2f3f036",
   "metadata": {},
   "outputs": [
    {
     "name": "stdout",
     "output_type": "stream",
     "text": [
      "377 /  377\n"
     ]
    }
   ],
   "source": [
    "pint_refs_no_dois # with the section of the table with missing DOIs only\n",
    "pint_refs_no_dois_titles = pint_refs_no_dois['TITLE']    # assign colums to variables\n",
    "\n",
    "dois = []    # container for DOIs found\n",
    "for i in range(len(pint_refs_no_dois_titles)):   # for each index of the number of references (413)\n",
    "    dois.append(srch.get_doi(pint_refs_no_dois_titles[i]))   # apply get_doi\n",
    "    clear_output(wait=True)\n",
    "    print( i+1,'/{n:5d}'.format(n=len(pint_refs_no_dois_titles)) )   # prints progress, takes ~5 min to run"
   ]
  },
  {
   "cell_type": "code",
   "execution_count": 12,
   "id": "53ad0b51-8356-40aa-8987-1a920908364f",
   "metadata": {},
   "outputs": [
    {
     "data": {
      "text/plain": [
       "'10.5636/jgg.23.129'"
      ]
     },
     "execution_count": 12,
     "metadata": {},
     "output_type": "execute_result"
    }
   ],
   "source": [
    "dois # view the list of DOIs\n",
    "# set list of DOIs to a new name\n",
    "dois_n = dois\n",
    "dois_n[0]"
   ]
  },
  {
   "cell_type": "code",
   "execution_count": 13,
   "id": "e89d9161-427a-4787-bbf0-531f846d6d8a",
   "metadata": {},
   "outputs": [
    {
     "data": {
      "text/html": [
       "<div>\n",
       "<style scoped>\n",
       "    .dataframe tbody tr th:only-of-type {\n",
       "        vertical-align: middle;\n",
       "    }\n",
       "\n",
       "    .dataframe tbody tr th {\n",
       "        vertical-align: top;\n",
       "    }\n",
       "\n",
       "    .dataframe thead th {\n",
       "        text-align: right;\n",
       "    }\n",
       "</style>\n",
       "<table border=\"1\" class=\"dataframe\">\n",
       "  <thead>\n",
       "    <tr style=\"text-align: right;\">\n",
       "      <th></th>\n",
       "      <th>index</th>\n",
       "      <th>REFNO</th>\n",
       "      <th>AUTHORS</th>\n",
       "      <th>YEAR</th>\n",
       "      <th>TITLE</th>\n",
       "      <th>JOURNAL</th>\n",
       "      <th>VOL</th>\n",
       "      <th>PAGES</th>\n",
       "      <th>DOI</th>\n",
       "      <th>MagIC</th>\n",
       "      <th>DOI_found</th>\n",
       "    </tr>\n",
       "  </thead>\n",
       "  <tbody>\n",
       "    <tr>\n",
       "      <th>0</th>\n",
       "      <td>0</td>\n",
       "      <td>1</td>\n",
       "      <td>Aoki, Y., Kase, H., Ishibashi, K., Kinoshita, H.</td>\n",
       "      <td>1971</td>\n",
       "      <td>Evidence of anomalously weak geomagnetic field...</td>\n",
       "      <td>J. Geomag. Geoelect.</td>\n",
       "      <td>23</td>\n",
       "      <td>129-132</td>\n",
       "      <td>NaN</td>\n",
       "      <td>NaN</td>\n",
       "      <td>10.5636/jgg.23.129</td>\n",
       "    </tr>\n",
       "    <tr>\n",
       "      <th>1</th>\n",
       "      <td>1</td>\n",
       "      <td>2</td>\n",
       "      <td>Bagina, O.L., Minasyan, D.O., Petrova, G.N.</td>\n",
       "      <td>1976</td>\n",
       "      <td>Determination of the intensity of the ancient ...</td>\n",
       "      <td>Izv. Akad. Nauk. (in Russian)</td>\n",
       "      <td>2</td>\n",
       "      <td>81-86</td>\n",
       "      <td>NaN</td>\n",
       "      <td>NaN</td>\n",
       "      <td>NaN</td>\n",
       "    </tr>\n",
       "    <tr>\n",
       "      <th>...</th>\n",
       "      <td>...</td>\n",
       "      <td>...</td>\n",
       "      <td>...</td>\n",
       "      <td>...</td>\n",
       "      <td>...</td>\n",
       "      <td>...</td>\n",
       "      <td>...</td>\n",
       "      <td>...</td>\n",
       "      <td>...</td>\n",
       "      <td>...</td>\n",
       "      <td>...</td>\n",
       "    </tr>\n",
       "    <tr>\n",
       "      <th>375</th>\n",
       "      <td>395</td>\n",
       "      <td>766</td>\n",
       "      <td>Shcherbakova V.V., Zhidkov G.A., Pavlov V.E..,...</td>\n",
       "      <td>2004</td>\n",
       "      <td>The paleointensity determinations on Early Pro...</td>\n",
       "      <td>Kazan'</td>\n",
       "      <td>NaN</td>\n",
       "      <td>61-66</td>\n",
       "      <td>NaN</td>\n",
       "      <td>NaN</td>\n",
       "      <td>NaN</td>\n",
       "    </tr>\n",
       "    <tr>\n",
       "      <th>376</th>\n",
       "      <td>397</td>\n",
       "      <td>768</td>\n",
       "      <td>Goguitchaichvili A., Valdivia L.A., Morales J....</td>\n",
       "      <td>2000</td>\n",
       "      <td>New contributions to the Early Pliocene geomag...</td>\n",
       "      <td>Geofisica Int.</td>\n",
       "      <td>39</td>\n",
       "      <td>277-284</td>\n",
       "      <td>NaN</td>\n",
       "      <td>NaN</td>\n",
       "      <td>10.22201/igeof.00167169p.2000.39.3.331</td>\n",
       "    </tr>\n",
       "  </tbody>\n",
       "</table>\n",
       "<p>377 rows × 11 columns</p>\n",
       "</div>"
      ],
      "text/plain": [
       "     index  REFNO                                            AUTHORS  YEAR  \\\n",
       "0        0      1   Aoki, Y., Kase, H., Ishibashi, K., Kinoshita, H.  1971   \n",
       "1        1      2        Bagina, O.L., Minasyan, D.O., Petrova, G.N.  1976   \n",
       "..     ...    ...                                                ...   ...   \n",
       "375    395    766  Shcherbakova V.V., Zhidkov G.A., Pavlov V.E..,...  2004   \n",
       "376    397    768  Goguitchaichvili A., Valdivia L.A., Morales J....  2000   \n",
       "\n",
       "                                                 TITLE  \\\n",
       "0    Evidence of anomalously weak geomagnetic field...   \n",
       "1    Determination of the intensity of the ancient ...   \n",
       "..                                                 ...   \n",
       "375  The paleointensity determinations on Early Pro...   \n",
       "376  New contributions to the Early Pliocene geomag...   \n",
       "\n",
       "                           JOURNAL  VOL    PAGES  DOI MagIC  \\\n",
       "0             J. Geomag. Geoelect.   23  129-132  NaN   NaN   \n",
       "1    Izv. Akad. Nauk. (in Russian)    2    81-86  NaN   NaN   \n",
       "..                             ...  ...      ...  ...   ...   \n",
       "375                         Kazan'  NaN    61-66  NaN   NaN   \n",
       "376                 Geofisica Int.   39  277-284  NaN   NaN   \n",
       "\n",
       "                                  DOI_found  \n",
       "0                        10.5636/jgg.23.129  \n",
       "1                                       NaN  \n",
       "..                                      ...  \n",
       "375                                     NaN  \n",
       "376  10.22201/igeof.00167169p.2000.39.3.331  \n",
       "\n",
       "[377 rows x 11 columns]"
      ]
     },
     "execution_count": 13,
     "metadata": {},
     "output_type": "execute_result"
    }
   ],
   "source": [
    "# fill a new column in our dataframe with DOIs found\n",
    "pint_refs_no_dois['DOI_found'] = dois_n\n",
    "\n",
    "# view\n",
    "pd.set_option('display.max_rows', 5)\n",
    "pint_refs_no_dois"
   ]
  },
  {
   "cell_type": "code",
   "execution_count": 14,
   "id": "a5b75a3d-32e2-4b8c-9665-99ead0d82c95",
   "metadata": {},
   "outputs": [
    {
     "name": "stdout",
     "output_type": "stream",
     "text": [
      "377 /  377\n"
     ]
    }
   ],
   "source": [
    "# now to find the MagIC Links\n",
    "magic_links = []     # MagIC link container\n",
    "for i in range(len(dois_n)): \n",
    "    magic_links.append(srch.magic_link_from_doi(dois_n[i]))\n",
    "    clear_output(wait=True)\n",
    "    print( i+1,'/{n:5d}'.format(n=len(dois_n)) )   # prints progress, takes ~5 min to run"
   ]
  },
  {
   "cell_type": "code",
   "execution_count": 15,
   "id": "6b01586a-f8bb-4e44-b357-34d16acf1b13",
   "metadata": {},
   "outputs": [
    {
     "data": {
      "text/html": [
       "<div>\n",
       "<style scoped>\n",
       "    .dataframe tbody tr th:only-of-type {\n",
       "        vertical-align: middle;\n",
       "    }\n",
       "\n",
       "    .dataframe tbody tr th {\n",
       "        vertical-align: top;\n",
       "    }\n",
       "\n",
       "    .dataframe thead th {\n",
       "        text-align: right;\n",
       "    }\n",
       "</style>\n",
       "<table border=\"1\" class=\"dataframe\">\n",
       "  <thead>\n",
       "    <tr style=\"text-align: right;\">\n",
       "      <th></th>\n",
       "      <th>index</th>\n",
       "      <th>REFNO</th>\n",
       "      <th>AUTHORS</th>\n",
       "      <th>YEAR</th>\n",
       "      <th>TITLE</th>\n",
       "      <th>JOURNAL</th>\n",
       "      <th>VOL</th>\n",
       "      <th>PAGES</th>\n",
       "      <th>DOI</th>\n",
       "      <th>MagIC</th>\n",
       "      <th>DOI_found</th>\n",
       "      <th>MagIC_found</th>\n",
       "    </tr>\n",
       "  </thead>\n",
       "  <tbody>\n",
       "    <tr>\n",
       "      <th>0</th>\n",
       "      <td>0</td>\n",
       "      <td>1</td>\n",
       "      <td>Aoki, Y., Kase, H., Ishibashi, K., Kinoshita, H.</td>\n",
       "      <td>1971</td>\n",
       "      <td>Evidence of anomalously weak geomagnetic field...</td>\n",
       "      <td>J. Geomag. Geoelect.</td>\n",
       "      <td>23</td>\n",
       "      <td>129-132</td>\n",
       "      <td>NaN</td>\n",
       "      <td>NaN</td>\n",
       "      <td>10.5636/jgg.23.129</td>\n",
       "      <td>http://dx.doi.org/10.7288/V4/MAGIC/18775</td>\n",
       "    </tr>\n",
       "    <tr>\n",
       "      <th>1</th>\n",
       "      <td>1</td>\n",
       "      <td>2</td>\n",
       "      <td>Bagina, O.L., Minasyan, D.O., Petrova, G.N.</td>\n",
       "      <td>1976</td>\n",
       "      <td>Determination of the intensity of the ancient ...</td>\n",
       "      <td>Izv. Akad. Nauk. (in Russian)</td>\n",
       "      <td>2</td>\n",
       "      <td>81-86</td>\n",
       "      <td>NaN</td>\n",
       "      <td>NaN</td>\n",
       "      <td>NaN</td>\n",
       "      <td>NaN</td>\n",
       "    </tr>\n",
       "    <tr>\n",
       "      <th>...</th>\n",
       "      <td>...</td>\n",
       "      <td>...</td>\n",
       "      <td>...</td>\n",
       "      <td>...</td>\n",
       "      <td>...</td>\n",
       "      <td>...</td>\n",
       "      <td>...</td>\n",
       "      <td>...</td>\n",
       "      <td>...</td>\n",
       "      <td>...</td>\n",
       "      <td>...</td>\n",
       "      <td>...</td>\n",
       "    </tr>\n",
       "    <tr>\n",
       "      <th>375</th>\n",
       "      <td>395</td>\n",
       "      <td>766</td>\n",
       "      <td>Shcherbakova V.V., Zhidkov G.A., Pavlov V.E..,...</td>\n",
       "      <td>2004</td>\n",
       "      <td>The paleointensity determinations on Early Pro...</td>\n",
       "      <td>Kazan'</td>\n",
       "      <td>NaN</td>\n",
       "      <td>61-66</td>\n",
       "      <td>NaN</td>\n",
       "      <td>NaN</td>\n",
       "      <td>NaN</td>\n",
       "      <td>NaN</td>\n",
       "    </tr>\n",
       "    <tr>\n",
       "      <th>376</th>\n",
       "      <td>397</td>\n",
       "      <td>768</td>\n",
       "      <td>Goguitchaichvili A., Valdivia L.A., Morales J....</td>\n",
       "      <td>2000</td>\n",
       "      <td>New contributions to the Early Pliocene geomag...</td>\n",
       "      <td>Geofisica Int.</td>\n",
       "      <td>39</td>\n",
       "      <td>277-284</td>\n",
       "      <td>NaN</td>\n",
       "      <td>NaN</td>\n",
       "      <td>10.22201/igeof.00167169p.2000.39.3.331</td>\n",
       "      <td>NaN</td>\n",
       "    </tr>\n",
       "  </tbody>\n",
       "</table>\n",
       "<p>377 rows × 12 columns</p>\n",
       "</div>"
      ],
      "text/plain": [
       "     index  REFNO                                            AUTHORS  YEAR  \\\n",
       "0        0      1   Aoki, Y., Kase, H., Ishibashi, K., Kinoshita, H.  1971   \n",
       "1        1      2        Bagina, O.L., Minasyan, D.O., Petrova, G.N.  1976   \n",
       "..     ...    ...                                                ...   ...   \n",
       "375    395    766  Shcherbakova V.V., Zhidkov G.A., Pavlov V.E..,...  2004   \n",
       "376    397    768  Goguitchaichvili A., Valdivia L.A., Morales J....  2000   \n",
       "\n",
       "                                                 TITLE  \\\n",
       "0    Evidence of anomalously weak geomagnetic field...   \n",
       "1    Determination of the intensity of the ancient ...   \n",
       "..                                                 ...   \n",
       "375  The paleointensity determinations on Early Pro...   \n",
       "376  New contributions to the Early Pliocene geomag...   \n",
       "\n",
       "                           JOURNAL  VOL    PAGES  DOI MagIC  \\\n",
       "0             J. Geomag. Geoelect.   23  129-132  NaN   NaN   \n",
       "1    Izv. Akad. Nauk. (in Russian)    2    81-86  NaN   NaN   \n",
       "..                             ...  ...      ...  ...   ...   \n",
       "375                         Kazan'  NaN    61-66  NaN   NaN   \n",
       "376                 Geofisica Int.   39  277-284  NaN   NaN   \n",
       "\n",
       "                                  DOI_found  \\\n",
       "0                        10.5636/jgg.23.129   \n",
       "1                                       NaN   \n",
       "..                                      ...   \n",
       "375                                     NaN   \n",
       "376  10.22201/igeof.00167169p.2000.39.3.331   \n",
       "\n",
       "                                  MagIC_found  \n",
       "0    http://dx.doi.org/10.7288/V4/MAGIC/18775  \n",
       "1                                         NaN  \n",
       "..                                        ...  \n",
       "375                                       NaN  \n",
       "376                                       NaN  \n",
       "\n",
       "[377 rows x 12 columns]"
      ]
     },
     "execution_count": 15,
     "metadata": {},
     "output_type": "execute_result"
    }
   ],
   "source": [
    "magic_links  # view the list of MagIC link\n",
    "\n",
    "# set list to a new name\n",
    "pint_refs_no_dois['MagIC_found'] = magic_links\n",
    "pd.set_option('display.max_rows', 5)\n",
    "pint_refs_no_dois"
   ]
  },
  {
   "cell_type": "markdown",
   "id": "301cad50-e850-40cc-8bc8-37ead4288f12",
   "metadata": {},
   "source": [
    "### Update references with initial DOIs\n",
    "Now with the dataframe from earlier, with some found DOIs, we'll search for their corresponding links to their MagIC contribution. We can apply the *magic_link_from_doi* function to the part of our data that had DOIs already. "
   ]
  },
  {
   "cell_type": "code",
   "execution_count": 16,
   "id": "4e184055-b2cf-41c5-a254-2b351a9d36be",
   "metadata": {},
   "outputs": [
    {
     "name": "stdout",
     "output_type": "stream",
     "text": [
      "36\n"
     ]
    },
    {
     "data": {
      "text/html": [
       "<div>\n",
       "<style scoped>\n",
       "    .dataframe tbody tr th:only-of-type {\n",
       "        vertical-align: middle;\n",
       "    }\n",
       "\n",
       "    .dataframe tbody tr th {\n",
       "        vertical-align: top;\n",
       "    }\n",
       "\n",
       "    .dataframe thead th {\n",
       "        text-align: right;\n",
       "    }\n",
       "</style>\n",
       "<table border=\"1\" class=\"dataframe\">\n",
       "  <thead>\n",
       "    <tr style=\"text-align: right;\">\n",
       "      <th></th>\n",
       "      <th>index</th>\n",
       "      <th>REFNO</th>\n",
       "      <th>AUTHORS</th>\n",
       "      <th>YEAR</th>\n",
       "      <th>TITLE</th>\n",
       "      <th>JOURNAL</th>\n",
       "      <th>VOL</th>\n",
       "      <th>PAGES</th>\n",
       "      <th>DOI</th>\n",
       "      <th>MagIC</th>\n",
       "    </tr>\n",
       "  </thead>\n",
       "  <tbody>\n",
       "    <tr>\n",
       "      <th>0</th>\n",
       "      <td>375</td>\n",
       "      <td>745</td>\n",
       "      <td>Abdulghafur, F., Bowles, J.A.</td>\n",
       "      <td>2019</td>\n",
       "      <td>Absolute Paleointensity Study of Miocene Tiva ...</td>\n",
       "      <td>Geochemistry, Geophysics, Geosystems</td>\n",
       "      <td>20</td>\n",
       "      <td>5818–5830</td>\n",
       "      <td>https://doi.org/10.1029/2019GC008728</td>\n",
       "      <td>NaN</td>\n",
       "    </tr>\n",
       "    <tr>\n",
       "      <th>1</th>\n",
       "      <td>376</td>\n",
       "      <td>746</td>\n",
       "      <td>Sánchez-Moreno, E.M., Calvo-Rathert, M., Gogui...</td>\n",
       "      <td>2019</td>\n",
       "      <td>Weak palaeointensity results over a Pliocene v...</td>\n",
       "      <td>Geophysical Journal International</td>\n",
       "      <td>220</td>\n",
       "      <td>1604–1618</td>\n",
       "      <td>https://doi.org/10.1093/gji/ggz533</td>\n",
       "      <td>NaN</td>\n",
       "    </tr>\n",
       "    <tr>\n",
       "      <th>...</th>\n",
       "      <td>...</td>\n",
       "      <td>...</td>\n",
       "      <td>...</td>\n",
       "      <td>...</td>\n",
       "      <td>...</td>\n",
       "      <td>...</td>\n",
       "      <td>...</td>\n",
       "      <td>...</td>\n",
       "      <td>...</td>\n",
       "      <td>...</td>\n",
       "    </tr>\n",
       "    <tr>\n",
       "      <th>34</th>\n",
       "      <td>411</td>\n",
       "      <td>782</td>\n",
       "      <td>Tauxe, L., Asefaw, H., Behar, N., Koppers, A. ...</td>\n",
       "      <td>2022</td>\n",
       "      <td>Paleointensity Estimates From the Pleistocene ...</td>\n",
       "      <td>Geochemistry, Geophysics, Geosystems</td>\n",
       "      <td>23</td>\n",
       "      <td>e2022GC010473</td>\n",
       "      <td>https://doi.org/10.1029/2022GC010473</td>\n",
       "      <td>NaN</td>\n",
       "    </tr>\n",
       "    <tr>\n",
       "      <th>35</th>\n",
       "      <td>412</td>\n",
       "      <td>783</td>\n",
       "      <td>di Chiara, A., Tauxe, L., Staudigel, H., Flori...</td>\n",
       "      <td>2021</td>\n",
       "      <td>Earth's Magnetic Field Strength and the Cretac...</td>\n",
       "      <td>Geochemistry, Geophysics, Geosystems</td>\n",
       "      <td>22</td>\n",
       "      <td>e2020GC009605</td>\n",
       "      <td>https://doi.org/10.1029/2020GC009605</td>\n",
       "      <td>NaN</td>\n",
       "    </tr>\n",
       "  </tbody>\n",
       "</table>\n",
       "<p>36 rows × 10 columns</p>\n",
       "</div>"
      ],
      "text/plain": [
       "    index  REFNO                                            AUTHORS  YEAR  \\\n",
       "0     375    745                      Abdulghafur, F., Bowles, J.A.  2019   \n",
       "1     376    746  Sánchez-Moreno, E.M., Calvo-Rathert, M., Gogui...  2019   \n",
       "..    ...    ...                                                ...   ...   \n",
       "34    411    782  Tauxe, L., Asefaw, H., Behar, N., Koppers, A. ...  2022   \n",
       "35    412    783  di Chiara, A., Tauxe, L., Staudigel, H., Flori...  2021   \n",
       "\n",
       "                                                TITLE  \\\n",
       "0   Absolute Paleointensity Study of Miocene Tiva ...   \n",
       "1   Weak palaeointensity results over a Pliocene v...   \n",
       "..                                                ...   \n",
       "34  Paleointensity Estimates From the Pleistocene ...   \n",
       "35  Earth's Magnetic Field Strength and the Cretac...   \n",
       "\n",
       "                                 JOURNAL  VOL          PAGES  \\\n",
       "0   Geochemistry, Geophysics, Geosystems   20      5818–5830   \n",
       "1     Geophysical Journal International   220      1604–1618   \n",
       "..                                   ...  ...            ...   \n",
       "34  Geochemistry, Geophysics, Geosystems   23  e2022GC010473   \n",
       "35  Geochemistry, Geophysics, Geosystems   22  e2020GC009605   \n",
       "\n",
       "                                     DOI MagIC  \n",
       "0   https://doi.org/10.1029/2019GC008728   NaN  \n",
       "1     https://doi.org/10.1093/gji/ggz533   NaN  \n",
       "..                                   ...   ...  \n",
       "34  https://doi.org/10.1029/2022GC010473   NaN  \n",
       "35  https://doi.org/10.1029/2020GC009605   NaN  \n",
       "\n",
       "[36 rows x 10 columns]"
      ]
     },
     "execution_count": 16,
     "metadata": {},
     "output_type": "execute_result"
    }
   ],
   "source": [
    "print( len(pint_refs_dois) )\n",
    "pd.set_option('display.max_rows', 5)\n",
    "pint_refs_dois"
   ]
  },
  {
   "cell_type": "markdown",
   "id": "c0d7df14-2963-4c27-b539-be01b4d2a61b",
   "metadata": {},
   "source": [
    "For the 36 PINT references that already have a listed DOI, some have the \"doi.org\" attached to it but these functions only read in the number ID. The code below secludes the DOI number. "
   ]
  },
  {
   "cell_type": "code",
   "execution_count": 17,
   "id": "622b5cd3-90e9-454f-b3a8-79aeed4c23f7",
   "metadata": {},
   "outputs": [],
   "source": [
    "# seclude doi number as a str\n",
    "df_dois = pint_refs_dois['DOI'].values\n",
    "doi_vals = []\n",
    "for i in range(len(df_dois)): \n",
    "    if len( df_dois[i].split('.org/') ) == 2:   # if the column value has doi.org + id number \n",
    "        doi_vals.append(df_dois[i].split('.org/')[1])\n",
    "    elif len( df_dois[i].split('.org/') ) == 1:  # if the column value has just the id number\n",
    "        doi_vals.append(df_dois[i].split('.org/')[0])"
   ]
  },
  {
   "cell_type": "code",
   "execution_count": 18,
   "id": "352016be-2907-42c1-b7ee-f93e78e5d121",
   "metadata": {},
   "outputs": [],
   "source": [
    "#doi_vals # check the values "
   ]
  },
  {
   "cell_type": "markdown",
   "id": "5c1c811a-e800-4695-8e6a-6f604750e367",
   "metadata": {},
   "source": [
    "Now with our array with everything from our \"DOI\" column in the same format, we can run the search function."
   ]
  },
  {
   "cell_type": "code",
   "execution_count": 19,
   "id": "485ebcb1-d578-47a9-a17f-f59005dae7cf",
   "metadata": {},
   "outputs": [],
   "source": [
    "# send DOI number to be searched in MagIC\n",
    "magic_links = []\n",
    "for i in range(len(doi_vals)): \n",
    "    magic_links.append(srch.magic_link_from_doi(doi_vals[i])) # takes ~5 mins"
   ]
  },
  {
   "cell_type": "code",
   "execution_count": 20,
   "id": "8a065956-d5af-43c6-95c3-a34df75583c9",
   "metadata": {},
   "outputs": [
    {
     "data": {
      "text/html": [
       "<div>\n",
       "<style scoped>\n",
       "    .dataframe tbody tr th:only-of-type {\n",
       "        vertical-align: middle;\n",
       "    }\n",
       "\n",
       "    .dataframe tbody tr th {\n",
       "        vertical-align: top;\n",
       "    }\n",
       "\n",
       "    .dataframe thead th {\n",
       "        text-align: right;\n",
       "    }\n",
       "</style>\n",
       "<table border=\"1\" class=\"dataframe\">\n",
       "  <thead>\n",
       "    <tr style=\"text-align: right;\">\n",
       "      <th></th>\n",
       "      <th>index</th>\n",
       "      <th>REFNO</th>\n",
       "      <th>AUTHORS</th>\n",
       "      <th>YEAR</th>\n",
       "      <th>TITLE</th>\n",
       "      <th>JOURNAL</th>\n",
       "      <th>VOL</th>\n",
       "      <th>PAGES</th>\n",
       "      <th>DOI</th>\n",
       "      <th>MagIC</th>\n",
       "      <th>MagIC_found</th>\n",
       "    </tr>\n",
       "  </thead>\n",
       "  <tbody>\n",
       "    <tr>\n",
       "      <th>0</th>\n",
       "      <td>375</td>\n",
       "      <td>745</td>\n",
       "      <td>Abdulghafur, F., Bowles, J.A.</td>\n",
       "      <td>2019</td>\n",
       "      <td>Absolute Paleointensity Study of Miocene Tiva ...</td>\n",
       "      <td>Geochemistry, Geophysics, Geosystems</td>\n",
       "      <td>20</td>\n",
       "      <td>5818–5830</td>\n",
       "      <td>https://doi.org/10.1029/2019GC008728</td>\n",
       "      <td>NaN</td>\n",
       "      <td>http://dx.doi.org/10.7288/V4/MAGIC/16709</td>\n",
       "    </tr>\n",
       "    <tr>\n",
       "      <th>1</th>\n",
       "      <td>376</td>\n",
       "      <td>746</td>\n",
       "      <td>Sánchez-Moreno, E.M., Calvo-Rathert, M., Gogui...</td>\n",
       "      <td>2019</td>\n",
       "      <td>Weak palaeointensity results over a Pliocene v...</td>\n",
       "      <td>Geophysical Journal International</td>\n",
       "      <td>220</td>\n",
       "      <td>1604–1618</td>\n",
       "      <td>https://doi.org/10.1093/gji/ggz533</td>\n",
       "      <td>NaN</td>\n",
       "      <td>http://dx.doi.org/10.7288/V4/MAGIC/17131</td>\n",
       "    </tr>\n",
       "    <tr>\n",
       "      <th>...</th>\n",
       "      <td>...</td>\n",
       "      <td>...</td>\n",
       "      <td>...</td>\n",
       "      <td>...</td>\n",
       "      <td>...</td>\n",
       "      <td>...</td>\n",
       "      <td>...</td>\n",
       "      <td>...</td>\n",
       "      <td>...</td>\n",
       "      <td>...</td>\n",
       "      <td>...</td>\n",
       "    </tr>\n",
       "    <tr>\n",
       "      <th>34</th>\n",
       "      <td>411</td>\n",
       "      <td>782</td>\n",
       "      <td>Tauxe, L., Asefaw, H., Behar, N., Koppers, A. ...</td>\n",
       "      <td>2022</td>\n",
       "      <td>Paleointensity Estimates From the Pleistocene ...</td>\n",
       "      <td>Geochemistry, Geophysics, Geosystems</td>\n",
       "      <td>23</td>\n",
       "      <td>e2022GC010473</td>\n",
       "      <td>https://doi.org/10.1029/2022GC010473</td>\n",
       "      <td>NaN</td>\n",
       "      <td>http://dx.doi.org/10.7288/V4/MAGIC/19491</td>\n",
       "    </tr>\n",
       "    <tr>\n",
       "      <th>35</th>\n",
       "      <td>412</td>\n",
       "      <td>783</td>\n",
       "      <td>di Chiara, A., Tauxe, L., Staudigel, H., Flori...</td>\n",
       "      <td>2021</td>\n",
       "      <td>Earth's Magnetic Field Strength and the Cretac...</td>\n",
       "      <td>Geochemistry, Geophysics, Geosystems</td>\n",
       "      <td>22</td>\n",
       "      <td>e2020GC009605</td>\n",
       "      <td>https://doi.org/10.1029/2020GC009605</td>\n",
       "      <td>NaN</td>\n",
       "      <td>http://dx.doi.org/10.7288/V4/MAGIC/16869</td>\n",
       "    </tr>\n",
       "  </tbody>\n",
       "</table>\n",
       "<p>36 rows × 11 columns</p>\n",
       "</div>"
      ],
      "text/plain": [
       "    index  REFNO                                            AUTHORS  YEAR  \\\n",
       "0     375    745                      Abdulghafur, F., Bowles, J.A.  2019   \n",
       "1     376    746  Sánchez-Moreno, E.M., Calvo-Rathert, M., Gogui...  2019   \n",
       "..    ...    ...                                                ...   ...   \n",
       "34    411    782  Tauxe, L., Asefaw, H., Behar, N., Koppers, A. ...  2022   \n",
       "35    412    783  di Chiara, A., Tauxe, L., Staudigel, H., Flori...  2021   \n",
       "\n",
       "                                                TITLE  \\\n",
       "0   Absolute Paleointensity Study of Miocene Tiva ...   \n",
       "1   Weak palaeointensity results over a Pliocene v...   \n",
       "..                                                ...   \n",
       "34  Paleointensity Estimates From the Pleistocene ...   \n",
       "35  Earth's Magnetic Field Strength and the Cretac...   \n",
       "\n",
       "                                 JOURNAL  VOL          PAGES  \\\n",
       "0   Geochemistry, Geophysics, Geosystems   20      5818–5830   \n",
       "1     Geophysical Journal International   220      1604–1618   \n",
       "..                                   ...  ...            ...   \n",
       "34  Geochemistry, Geophysics, Geosystems   23  e2022GC010473   \n",
       "35  Geochemistry, Geophysics, Geosystems   22  e2020GC009605   \n",
       "\n",
       "                                     DOI MagIC  \\\n",
       "0   https://doi.org/10.1029/2019GC008728   NaN   \n",
       "1     https://doi.org/10.1093/gji/ggz533   NaN   \n",
       "..                                   ...   ...   \n",
       "34  https://doi.org/10.1029/2022GC010473   NaN   \n",
       "35  https://doi.org/10.1029/2020GC009605   NaN   \n",
       "\n",
       "                                 MagIC_found  \n",
       "0   http://dx.doi.org/10.7288/V4/MAGIC/16709  \n",
       "1   http://dx.doi.org/10.7288/V4/MAGIC/17131  \n",
       "..                                       ...  \n",
       "34  http://dx.doi.org/10.7288/V4/MAGIC/19491  \n",
       "35  http://dx.doi.org/10.7288/V4/MAGIC/16869  \n",
       "\n",
       "[36 rows x 11 columns]"
      ]
     },
     "execution_count": 20,
     "metadata": {},
     "output_type": "execute_result"
    }
   ],
   "source": [
    "pint_refs_dois['MagIC_found'] = magic_links  # create a new column for our new MagIC links\n",
    "\n",
    "pd.set_option('display.max_rows', 5)\n",
    "pint_refs_dois  # no need to worry about the warning for now "
   ]
  },
  {
   "cell_type": "markdown",
   "id": "df858067-770b-4b51-abe9-5dc66685284f",
   "metadata": {},
   "source": [
    "Now to combine our two partial dataframes back into one dataframe ready for export"
   ]
  },
  {
   "cell_type": "code",
   "execution_count": 21,
   "id": "400dccc7-57b6-4a92-bef9-8410d4a84ab0",
   "metadata": {},
   "outputs": [
    {
     "data": {
      "text/html": [
       "<div>\n",
       "<style scoped>\n",
       "    .dataframe tbody tr th:only-of-type {\n",
       "        vertical-align: middle;\n",
       "    }\n",
       "\n",
       "    .dataframe tbody tr th {\n",
       "        vertical-align: top;\n",
       "    }\n",
       "\n",
       "    .dataframe thead th {\n",
       "        text-align: right;\n",
       "    }\n",
       "</style>\n",
       "<table border=\"1\" class=\"dataframe\">\n",
       "  <thead>\n",
       "    <tr style=\"text-align: right;\">\n",
       "      <th></th>\n",
       "      <th>index</th>\n",
       "      <th>REFNO</th>\n",
       "      <th>AUTHORS</th>\n",
       "      <th>YEAR</th>\n",
       "      <th>TITLE</th>\n",
       "      <th>JOURNAL</th>\n",
       "      <th>VOL</th>\n",
       "      <th>PAGES</th>\n",
       "      <th>DOI</th>\n",
       "      <th>MagIC</th>\n",
       "      <th>DOI_found</th>\n",
       "      <th>MagIC_found</th>\n",
       "    </tr>\n",
       "  </thead>\n",
       "  <tbody>\n",
       "    <tr>\n",
       "      <th>0</th>\n",
       "      <td>0</td>\n",
       "      <td>1</td>\n",
       "      <td>Aoki, Y., Kase, H., Ishibashi, K., Kinoshita, H.</td>\n",
       "      <td>1971</td>\n",
       "      <td>Evidence of anomalously weak geomagnetic field...</td>\n",
       "      <td>J. Geomag. Geoelect.</td>\n",
       "      <td>23</td>\n",
       "      <td>129-132</td>\n",
       "      <td>NaN</td>\n",
       "      <td>NaN</td>\n",
       "      <td>10.5636/jgg.23.129</td>\n",
       "      <td>http://dx.doi.org/10.7288/V4/MAGIC/18775</td>\n",
       "    </tr>\n",
       "    <tr>\n",
       "      <th>1</th>\n",
       "      <td>1</td>\n",
       "      <td>2</td>\n",
       "      <td>Bagina, O.L., Minasyan, D.O., Petrova, G.N.</td>\n",
       "      <td>1976</td>\n",
       "      <td>Determination of the intensity of the ancient ...</td>\n",
       "      <td>Izv. Akad. Nauk. (in Russian)</td>\n",
       "      <td>2</td>\n",
       "      <td>81-86</td>\n",
       "      <td>NaN</td>\n",
       "      <td>NaN</td>\n",
       "      <td>NaN</td>\n",
       "      <td>NaN</td>\n",
       "    </tr>\n",
       "    <tr>\n",
       "      <th>...</th>\n",
       "      <td>...</td>\n",
       "      <td>...</td>\n",
       "      <td>...</td>\n",
       "      <td>...</td>\n",
       "      <td>...</td>\n",
       "      <td>...</td>\n",
       "      <td>...</td>\n",
       "      <td>...</td>\n",
       "      <td>...</td>\n",
       "      <td>...</td>\n",
       "      <td>...</td>\n",
       "      <td>...</td>\n",
       "    </tr>\n",
       "    <tr>\n",
       "      <th>34</th>\n",
       "      <td>411</td>\n",
       "      <td>782</td>\n",
       "      <td>Tauxe, L., Asefaw, H., Behar, N., Koppers, A. ...</td>\n",
       "      <td>2022</td>\n",
       "      <td>Paleointensity Estimates From the Pleistocene ...</td>\n",
       "      <td>Geochemistry, Geophysics, Geosystems</td>\n",
       "      <td>23</td>\n",
       "      <td>e2022GC010473</td>\n",
       "      <td>https://doi.org/10.1029/2022GC010473</td>\n",
       "      <td>NaN</td>\n",
       "      <td>NaN</td>\n",
       "      <td>http://dx.doi.org/10.7288/V4/MAGIC/19491</td>\n",
       "    </tr>\n",
       "    <tr>\n",
       "      <th>35</th>\n",
       "      <td>412</td>\n",
       "      <td>783</td>\n",
       "      <td>di Chiara, A., Tauxe, L., Staudigel, H., Flori...</td>\n",
       "      <td>2021</td>\n",
       "      <td>Earth's Magnetic Field Strength and the Cretac...</td>\n",
       "      <td>Geochemistry, Geophysics, Geosystems</td>\n",
       "      <td>22</td>\n",
       "      <td>e2020GC009605</td>\n",
       "      <td>https://doi.org/10.1029/2020GC009605</td>\n",
       "      <td>NaN</td>\n",
       "      <td>NaN</td>\n",
       "      <td>http://dx.doi.org/10.7288/V4/MAGIC/16869</td>\n",
       "    </tr>\n",
       "  </tbody>\n",
       "</table>\n",
       "<p>413 rows × 12 columns</p>\n",
       "</div>"
      ],
      "text/plain": [
       "    index  REFNO                                            AUTHORS  YEAR  \\\n",
       "0       0      1   Aoki, Y., Kase, H., Ishibashi, K., Kinoshita, H.  1971   \n",
       "1       1      2        Bagina, O.L., Minasyan, D.O., Petrova, G.N.  1976   \n",
       "..    ...    ...                                                ...   ...   \n",
       "34    411    782  Tauxe, L., Asefaw, H., Behar, N., Koppers, A. ...  2022   \n",
       "35    412    783  di Chiara, A., Tauxe, L., Staudigel, H., Flori...  2021   \n",
       "\n",
       "                                                TITLE  \\\n",
       "0   Evidence of anomalously weak geomagnetic field...   \n",
       "1   Determination of the intensity of the ancient ...   \n",
       "..                                                ...   \n",
       "34  Paleointensity Estimates From the Pleistocene ...   \n",
       "35  Earth's Magnetic Field Strength and the Cretac...   \n",
       "\n",
       "                                 JOURNAL VOL          PAGES  \\\n",
       "0                   J. Geomag. Geoelect.  23        129-132   \n",
       "1          Izv. Akad. Nauk. (in Russian)   2          81-86   \n",
       "..                                   ...  ..            ...   \n",
       "34  Geochemistry, Geophysics, Geosystems  23  e2022GC010473   \n",
       "35  Geochemistry, Geophysics, Geosystems  22  e2020GC009605   \n",
       "\n",
       "                                     DOI MagIC           DOI_found  \\\n",
       "0                                    NaN   NaN  10.5636/jgg.23.129   \n",
       "1                                    NaN   NaN                 NaN   \n",
       "..                                   ...   ...                 ...   \n",
       "34  https://doi.org/10.1029/2022GC010473   NaN                 NaN   \n",
       "35  https://doi.org/10.1029/2020GC009605   NaN                 NaN   \n",
       "\n",
       "                                 MagIC_found  \n",
       "0   http://dx.doi.org/10.7288/V4/MAGIC/18775  \n",
       "1                                        NaN  \n",
       "..                                       ...  \n",
       "34  http://dx.doi.org/10.7288/V4/MAGIC/19491  \n",
       "35  http://dx.doi.org/10.7288/V4/MAGIC/16869  \n",
       "\n",
       "[413 rows x 12 columns]"
      ]
     },
     "execution_count": 21,
     "metadata": {},
     "output_type": "execute_result"
    }
   ],
   "source": [
    "# combining the two dataframes\n",
    "pint_refs_links_filled = pd.concat([pint_refs_no_dois, pint_refs_dois])\n",
    "\n",
    "pd.set_option('display.max_rows', 5)\n",
    "pint_refs_links_filled"
   ]
  },
  {
   "cell_type": "markdown",
   "id": "77d5d782-ee43-400d-895c-785c0cf3e2fe",
   "metadata": {},
   "source": [
    "Depending on the paper titles included in our original spreadsheet (some errors may include: spelling, if they differ from the published paper title, if they aren't in MagIC, no assigned Earthref Data DOI etc.), the DOI and MagIC search results may vary. \n",
    "\n",
    "This is a summary of our results from this test case:\n",
    "\n",
    "Out of our 413 refrences, we started off with: \n",
    "- 36 DOI links or IDs\n",
    "- 0 working MagIC Earthref Data DOI links"
   ]
  },
  {
   "cell_type": "code",
   "execution_count": 22,
   "id": "b1098c3c-75d3-4cc8-bbaa-dc5bf755dce2",
   "metadata": {},
   "outputs": [
    {
     "name": "stdout",
     "output_type": "stream",
     "text": [
      "count                  320\n",
      "unique                 319\n",
      "top       10.1360/02yd9092\n",
      "freq                     2\n",
      "Name: DOI_found, dtype: object\n",
      "count                                          222\n",
      "unique                                         222\n",
      "top       http://dx.doi.org/10.7288/V4/MAGIC/18775\n",
      "freq                                             1\n",
      "Name: MagIC_found, dtype: object\n"
     ]
    }
   ],
   "source": [
    "print( pint_refs_links_filled['DOI_found'].describe() )\n",
    "print( pint_refs_links_filled['MagIC_found'].describe() )"
   ]
  },
  {
   "cell_type": "markdown",
   "id": "464c2bcc-7fa6-4de8-ba13-98f4c2fd1baa",
   "metadata": {},
   "source": [
    "This tells us we now have: \n",
    "- 320 DOI ID links (77% with 93 NaN) \n",
    "- 222 MagIC EarthRef Data DOI links (54% with 191 NaN)"
   ]
  },
  {
   "cell_type": "markdown",
   "id": "d7a68335-8498-4d90-84cb-755759cde994",
   "metadata": {},
   "source": [
    "To export this file as an excel sheet into our 'testdata' folder: "
   ]
  },
  {
   "cell_type": "code",
   "execution_count": 23,
   "id": "21401ae0-5115-4d85-91be-cfbad9c402ce",
   "metadata": {},
   "outputs": [],
   "source": [
    "pint_refs_links_filled.to_excel('../testdata/PINT_references_ex.xlsx', index=False)"
   ]
  }
 ],
 "metadata": {
  "kernelspec": {
   "display_name": "Python 3 (ipykernel)",
   "language": "python",
   "name": "python3"
  },
  "language_info": {
   "codemirror_mode": {
    "name": "ipython",
    "version": 3
   },
   "file_extension": ".py",
   "mimetype": "text/x-python",
   "name": "python",
   "nbconvert_exporter": "python",
   "pygments_lexer": "ipython3",
   "version": "3.8.12"
  }
 },
 "nbformat": 4,
 "nbformat_minor": 5
}
