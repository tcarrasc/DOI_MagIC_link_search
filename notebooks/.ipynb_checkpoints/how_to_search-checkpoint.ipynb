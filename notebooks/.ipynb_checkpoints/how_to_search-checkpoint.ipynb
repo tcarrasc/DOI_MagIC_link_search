{
 "cells": [
  {
   "cell_type": "markdown",
   "id": "e22d230a-9f44-4ca1-81e3-57da7181fcbb",
   "metadata": {},
   "source": [
    "# Applying DOI and MagIC Link search functions\n",
    "\n",
    "In the case that you have many literature references that include a title, author, year, journal, volume, and pages but do not have the doi \n",
    "or MagIC contribution link these functions can assist in finding these missing identifiers. \n",
    "\n",
    "Many are familar with the reference DOI assigned to most published papers. The format we will make us of here will be after the 10 ('10.1029/A1B2C3'). \n",
    "We are interested in the MagIC link that relates to rock magnetic data so that one can easily search for the data associated with a paper. The http links produced by these functions are the Earth ref Data DOI links related to contributions (http://dx.doi.org/10.7288/V4/MAGIC/19904).\n",
    "\n",
    "These functions used in this notebook are found in the module \"dl_search\". "
   ]
  },
  {
   "cell_type": "code",
   "execution_count": 1,
   "id": "747573ea-8db5-4174-b81c-8c1f23bccb54",
   "metadata": {},
   "outputs": [],
   "source": [
    "import dl_search as srch"
   ]
  },
  {
   "cell_type": "markdown",
   "id": "038a05bd-8eb0-4401-97c9-a51c23188070",
   "metadata": {},
   "source": [
    "### magic_link_from_doi \n",
    "Examples"
   ]
  },
  {
   "cell_type": "code",
   "execution_count": 3,
   "id": "3af25ead-51de-41d8-8081-9f0bf93c69f5",
   "metadata": {},
   "outputs": [
    {
     "data": {
      "text/plain": [
       "'http://dx.doi.org/10.7288/V4/MAGIC/17452'"
      ]
     },
     "execution_count": 3,
     "metadata": {},
     "output_type": "execute_result"
    }
   ],
   "source": [
    "doi = '10.1029/2021GC009990'\n",
    "srch.magic_link_from_doi(doi)"
   ]
  },
  {
   "cell_type": "code",
   "execution_count": 4,
   "id": "bbdbefca-cb04-4a8a-be33-d769304a1a3c",
   "metadata": {},
   "outputs": [
    {
     "data": {
      "text/plain": [
       "'http://dx.doi.org/10.7288/V4/MAGIC/16709'"
      ]
     },
     "execution_count": 4,
     "metadata": {},
     "output_type": "execute_result"
    }
   ],
   "source": [
    "doi = '10.1029/2019GC008728'\n",
    "srch.magic_link_from_doi(doi)"
   ]
  },
  {
   "cell_type": "markdown",
   "id": "c7417c8c-c80d-4c33-a7da-9e4020cb58d2",
   "metadata": {},
   "source": [
    "### magic_link_from_title"
   ]
  },
  {
   "cell_type": "code",
   "execution_count": 5,
   "id": "51a5a3ae-31f9-4d89-bf7e-643cfc58672f",
   "metadata": {},
   "outputs": [
    {
     "data": {
      "text/plain": [
       "'http://dx.doi.org/10.7288/V4/MAGIC/19405'"
      ]
     },
     "execution_count": 5,
     "metadata": {},
     "output_type": "execute_result"
    }
   ],
   "source": [
    "title = \"Geomagnetic field intensity between 70 000 and 130 000 years B.P. from a volcanic sequence on La Réunion, Indian Ocean\"\n",
    "#id = '19405'\n",
    "\n",
    "srch.magic_link_from_title(title)"
   ]
  },
  {
   "cell_type": "markdown",
   "id": "dc8dde9a-8f54-4c97-bcbc-2ca9d47fea91",
   "metadata": {},
   "source": [
    "### get_doi\n",
    "Examples"
   ]
  },
  {
   "cell_type": "code",
   "execution_count": 6,
   "id": "6347fcc6-cad8-470b-af9e-2b7a02a95e21",
   "metadata": {},
   "outputs": [
    {
     "data": {
      "text/plain": [
       "'10.1016/0012-821x(96)00024-6'"
      ]
     },
     "execution_count": 6,
     "metadata": {},
     "output_type": "execute_result"
    }
   ],
   "source": [
    "title = 'Geomagnetic field intensity between 70 000 and 130 000 years B.P. from a volcanic sequence on La Reunion, Indian Ocean.' \n",
    "srch.get_doi(title)"
   ]
  },
  {
   "cell_type": "markdown",
   "id": "f930c5c3-8bd2-4ade-9b34-c743ccbaf7d3",
   "metadata": {},
   "source": [
    "### These can be used in tandem when magic_link_from_title cannot find the associated link"
   ]
  },
  {
   "cell_type": "code",
   "execution_count": 4,
   "id": "f0453005-e30e-4bd0-86e6-a35a14df19d0",
   "metadata": {},
   "outputs": [
    {
     "data": {
      "text/plain": [
       "0"
      ]
     },
     "execution_count": 4,
     "metadata": {},
     "output_type": "execute_result"
    }
   ],
   "source": [
    "title = 'Evidence of anomalously weak geomagnetic field during Matuyama reversed epoch'\n",
    "srch.magic_link_from_title(title)   # no content found"
   ]
  },
  {
   "cell_type": "markdown",
   "id": "5b3c0680-e4a9-44a9-8408-75257bb7dbf7",
   "metadata": {},
   "source": [
    "This should will work. So then we will try "
   ]
  },
  {
   "cell_type": "code",
   "execution_count": 6,
   "id": "1c51a7ef-29ca-4e7c-b4ff-44c6a96a8429",
   "metadata": {},
   "outputs": [
    {
     "data": {
      "text/plain": [
       "'http://dx.doi.org/10.7288/V4/MAGIC/18775'"
      ]
     },
     "execution_count": 6,
     "metadata": {},
     "output_type": "execute_result"
    }
   ],
   "source": [
    "title = 'Evidence of anomalously weak geomagnetic field during Matuyama reversed epoch'\n",
    "srch.magic_link_from_title2(title)"
   ]
  },
  {
   "cell_type": "code",
   "execution_count": null,
   "id": "5ac6bc1c-6f12-471f-88b1-8c9b5fb1048d",
   "metadata": {},
   "outputs": [],
   "source": []
  }
 ],
 "metadata": {
  "kernelspec": {
   "display_name": "Python 3 (ipykernel)",
   "language": "python",
   "name": "python3"
  },
  "language_info": {
   "codemirror_mode": {
    "name": "ipython",
    "version": 3
   },
   "file_extension": ".py",
   "mimetype": "text/x-python",
   "name": "python",
   "nbconvert_exporter": "python",
   "pygments_lexer": "ipython3",
   "version": "3.8.12"
  }
 },
 "nbformat": 4,
 "nbformat_minor": 5
}
